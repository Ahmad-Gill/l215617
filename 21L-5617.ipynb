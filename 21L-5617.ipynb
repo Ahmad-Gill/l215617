{
  "nbformat": 4,
  "nbformat_minor": 0,
  "metadata": {
    "colab": {
      "provenance": [],
      "collapsed_sections": []
    },
    "kernelspec": {
      "name": "python3",
      "display_name": "Python 3"
    },
    "language_info": {
      "name": "python"
    }
  },
  "cells": [
    {
      "cell_type": "markdown",
      "source": [
        "# Introduction To Data Science – Assignment 1\n",
        "\n",
        "---\n",
        "\n",
        "### Sections A – B – C – D\n",
        "\n",
        "---\n",
        "\n",
        "***Instructions***\n",
        "\n",
        "Due Date: Sunday 18th September 2022 – 11:59PM\n",
        "\n",
        "Name the file in the format Lyyxxxx and save it as .ipynb (e.g. L201234.ipynb)\n",
        "\n",
        "Submission will be taken on **GitHub and Google Classroom (submit the .ipynb file)** - Instructions to upload onto GitHub are provided in the link https://docs.google.com/document/d/1BR1ULOGeGWJVU6Rr6Qty1FR-quVRZyRvQGII6nEs-wo/edit?usp=sharing\n",
        "\n",
        "After uploading and submitting the .ipynb file onto Google Classroom, also private comment the link to the GitHub repository.\n",
        "\n",
        "All source files needed to complete this assignment can be found on the following Google Drive link https://drive.google.com/drive/folders/1VrkaVcExGWqilSeh50WZe4gUBjmUiJ9b?usp=sharing\n",
        "\n",
        "TA Emails\n",
        "\n",
        "Section A, C - Muhammad Maarij l192347@lhr.nu.edu.pk\n",
        "\n",
        "Section B, D - Hira Ijaz l192377@lhr.nu.edu.pk\n",
        "\n",
        "Happy Coding 😊\n",
        "\n",
        "---"
      ],
      "metadata": {
        "id": "TWWLTwYZorzC"
      }
    },
    {
      "cell_type": "code",
      "source": [],
      "metadata": {
        "id": "Owhb3lHMfqwS"
      },
      "execution_count": 23,
      "outputs": []
    },
    {
      "cell_type": "markdown",
      "source": [
        "---\n",
        "## Question 1\n",
        "---"
      ],
      "metadata": {
        "id": "arB_0r9H0jjC"
      }
    },
    {
      "cell_type": "markdown",
      "source": [
        "Define a procedure called \"check_input\" that takes an input as a square list of lists (2D Matrix of N x N) and returns a boolen \"true\" if the input is valid or \"false\" otherwise, according to the following criteria.\n",
        "\n",
        "1. Each coloumn must contain numbers from between 1 and N, with no duplicates.\n",
        "2. Each row must contain numbers from between 1 and N, with no duplicates."
      ],
      "metadata": {
        "id": "qHPTNDy30n99"
      }
    },
    {
      "cell_type": "code",
      "source": [
        "def Check_input(test1):\n",
        "    row = len(test1)\n",
        "    col = len(test1[0])\n",
        "    for i in range(0, row):\n",
        "        for k in range(0,col):\n",
        "            val = test1[i][k]\n",
        "            for j in range(k+1, col):\n",
        "                val2=test1[i][j]\n",
        "                if(val==val2):\n",
        "                    return False\n",
        "                    break\n",
        "\n",
        "    for i in range(0, row):\n",
        "        for k in range(0, col):\n",
        "            val = test1[k][i]\n",
        "            for j in range(k + 1, col):\n",
        "                val2 = test1[j][i]\n",
        "                if (val == val2):\n",
        "                    return False\n",
        "                    break\n",
        "    return True"
      ],
      "metadata": {
        "id": "S2_Zic322Lt7"
      },
      "execution_count": 48,
      "outputs": []
    },
    {
      "cell_type": "code",
      "source": [
        "# run this block to test code after defining the procedure\n",
        "\n",
        "test1 = [[1, 2, 3],\n",
        "        [2, 3, 1],\n",
        "        [3, 1, 2]]\n",
        "\n",
        "test2 = [[1, 2, 3, 4],\n",
        "        [2, 3, 1, 3],\n",
        "        [3, 1, 2, 3],\n",
        "        [4, 4, 4, 4]]\n",
        "\n",
        "test3 = [['a', 'b', 'c'],\n",
        "        ['b', 'c', 'a'],\n",
        "        ['c', 'a', 'a']]\n",
        "\n",
        "print( Check_input(test1)) # must return true\n",
        "print( Check_input(test2)) # must return false\n",
        "print( Check_input(test3)) # must return false"
      ],
      "metadata": {
        "id": "wdL9MWgq2ZbP",
        "colab": {
          "base_uri": "https://localhost:8080/"
        },
        "outputId": "b22a26de-7757-42b5-945b-55be1cbdefc2"
      },
      "execution_count": 50,
      "outputs": [
        {
          "output_type": "stream",
          "name": "stdout",
          "text": [
            "True\n",
            "False\n",
            "True\n"
          ]
        }
      ]
    },
    {
      "cell_type": "markdown",
      "source": [
        "---\n",
        "## Question 2\n",
        "---"
      ],
      "metadata": {
        "id": "4RVTlnhWqOUC"
      }
    },
    {
      "cell_type": "markdown",
      "source": [
        "**Part A** - Import the file \"StudentMarkSheet.csv\" as a Pandas DataFrame and print the information for the dataframe"
      ],
      "metadata": {
        "id": "Uyc7JPtNt0pR"
      }
    },
    {
      "cell_type": "code",
      "execution_count": 26,
      "metadata": {
        "id": "wYrt7e6Xop2P",
        "colab": {
          "base_uri": "https://localhost:8080/"
        },
        "outputId": "a5793b7f-b960-4dc8-a86f-386a9d89c685"
      },
      "outputs": [
        {
          "output_type": "stream",
          "name": "stdout",
          "text": [
            "        Student name  Exam name   Exam date  Marks\n",
            "0       James Walker    Biology  05/06/2016   31.0\n",
            "1      Velma Clemons    Biology  05/06/2016   43.0\n",
            "2     Kibo Underwood    Biology  05/06/2016   81.0\n",
            "3        Louis Mcgee    Biology  05/06/2016   11.0\n",
            "4       Phyllis Paul    Biology  05/06/2016   18.0\n",
            "..               ...        ...         ...    ...\n",
            "195       Yen Bowers  Sociology  21/06/2016   52.0\n",
            "196        Ryan Pena  Sociology  21/06/2016   16.0\n",
            "197  Portia Hamilton  Sociology  21/06/2016   34.0\n",
            "198  Sydnee Chambers  Sociology  21/06/2016   76.0\n",
            "199      Stacy Small  Sociology  21/06/2016   96.0\n",
            "\n",
            "[200 rows x 4 columns]\n"
          ]
        }
      ],
      "source": [
        "import pandas as pd\n",
        "student = pd.read_csv(\"https://raw.githubusercontent.com/Ahmad-Gill/l215617/main/StudentMarkSheet.csv\")\n",
        "print(student)"
      ]
    },
    {
      "cell_type": "markdown",
      "source": [
        "**Part B** - Remove any rows that do not contain all the data. Also print the following information.\n",
        "\n",
        "1. Number of rows before\n",
        "2. Number of rows containing null data\n",
        "3. Number of rows after"
      ],
      "metadata": {
        "id": "jIaMvgcft_i0"
      }
    },
    {
      "cell_type": "code",
      "source": [
        "Total_Number_row = len(student)\n",
        "print(\"Total number of rows \", Total_Number_row)\n",
        "drop_null=student.dropna()\n",
        "new_row_after_deletion=len(drop_null)\n",
        "number_rows_containing_null=Total_Number_row-new_row_after_deletion\n",
        "print(\" number of rows containing null data \",number_rows_containing_null)\n",
        "print(\" number of rows after deletion of null values \",new_row_after_deletion)"
      ],
      "metadata": {
        "id": "_ov_SWdxuZUm",
        "colab": {
          "base_uri": "https://localhost:8080/"
        },
        "outputId": "8df76932-8812-43e7-846f-39c39283a858"
      },
      "execution_count": 27,
      "outputs": [
        {
          "output_type": "stream",
          "name": "stdout",
          "text": [
            "Total number of rows  200\n",
            " number of rows containing null data  4\n",
            " number of rows after deletion of null values  196\n"
          ]
        }
      ]
    },
    {
      "cell_type": "markdown",
      "source": [
        "**Part C** - Print all the marks along with the subject for the student named \"James Walker\""
      ],
      "metadata": {
        "id": "2kd9zAX6wkXM"
      }
    },
    {
      "cell_type": "code",
      "source": [
        "selsctive_data=pd.DataFrame(drop_null)\n",
        "specific_row_contain_specific_word= drop_null[drop_null['Student name'].str.contains('James Walker')]\n",
        "print(specific_row_contain_specific_word[['Student name', 'Exam name', 'Marks']])"
      ],
      "metadata": {
        "id": "N0HWJN-PwuSo",
        "colab": {
          "base_uri": "https://localhost:8080/"
        },
        "outputId": "b23d61e5-6713-45d8-f2af-ab231e7571e0"
      },
      "execution_count": 28,
      "outputs": [
        {
          "output_type": "stream",
          "name": "stdout",
          "text": [
            "     Student name    Exam name  Marks\n",
            "0    James Walker      Biology   31.0\n",
            "42   James Walker    Chemistry   61.0\n",
            "71   James Walker  Mathematics   23.0\n",
            "150  James Walker      Physics  100.0\n",
            "180  James Walker    Sociology   73.0\n"
          ]
        }
      ]
    },
    {
      "cell_type": "markdown",
      "source": [
        "---\n",
        "## Question 3\n",
        "---"
      ],
      "metadata": {
        "id": "ts8Y1EXmwzhf"
      }
    },
    {
      "cell_type": "markdown",
      "source": [
        "**Part A** - From the DataFrame created in Question 2, calculate the average marks for each subject"
      ],
      "metadata": {
        "id": "PJENm_hpw3GQ"
      }
    },
    {
      "cell_type": "code",
      "source": [
        "row_contain_biology=drop_null[drop_null['Exam name'].str.contains('Biology')]\n",
        "mean_biology_marks= row_contain_biology[\"Marks\"].mean()\n",
        "row_contain_Chemistry=drop_null[drop_null['Exam name'].str.contains('Chemistry')]\n",
        "mean_chemistry_marks= row_contain_Chemistry[\"Marks\"].mean()\n",
        "row_contain_Matematics=drop_null[drop_null['Exam name'].str.contains('Mathematics')]\n",
        "mean_Mathematics_marks= row_contain_Matematics[\"Marks\"].mean()\n",
        "row_contain_Philosophy=drop_null[drop_null['Exam name'].str.contains('Philosophy')]\n",
        "mean_Philosophy_marks= row_contain_Philosophy[\"Marks\"].mean()\n",
        "row_contain_Physics=drop_null[drop_null['Exam name'].str.contains('Physics')]\n",
        "mean_Physics_marks= row_contain_Physics[\"Marks\"].mean()\n",
        "row_contain_Sociology=drop_null[drop_null['Exam name'].str.contains('Sociology')]\n",
        "mean_Sociology_marks= row_contain_Sociology[\"Marks\"].mean()\n",
        "print(\"mean_chemistry_marks = \", mean_chemistry_marks)\n",
        "print(\"mean_biology_marks = \", mean_biology_marks)\n",
        "print(\"mean_mathematics_marks = \", mean_Mathematics_marks)\n",
        "print(\"mean_Philosophy_marks = \", mean_Philosophy_marks)\n",
        "print(\"mean_Physics_marks = \", mean_Physics_marks)\n",
        "print(\"mean_Sociology_marks = \", mean_Sociology_marks)"
      ],
      "metadata": {
        "id": "AxhCtST5xS3L",
        "colab": {
          "base_uri": "https://localhost:8080/"
        },
        "outputId": "bdcecb7b-1682-4520-f5dc-749973d8ccce"
      },
      "execution_count": 29,
      "outputs": [
        {
          "output_type": "stream",
          "name": "stdout",
          "text": [
            "mean_chemistry_marks =  50.57692307692308\n",
            "mean_biology_marks =  47.89473684210526\n",
            "mean_mathematics_marks =  48.97222222222222\n",
            "mean_Philosophy_marks =  47.270270270270274\n",
            "mean_Physics_marks =  51.76190476190476\n",
            "mean_Sociology_marks =  56.026315789473685\n"
          ]
        }
      ]
    },
    {
      "cell_type": "markdown",
      "source": [
        "**Part B** - Using the averages you just calculated, plot a Bar Graph showing the average marks of each subject"
      ],
      "metadata": {
        "id": "NDlaA7hHxUBc"
      }
    },
    {
      "cell_type": "code",
      "source": [
        "import matplotlib.pyplot as plt\n",
        "total_subjects= ['Chemistry', 'Biology', 'Mathematics', 'Philosophy', 'Physics', 'Sociology']\n",
        "total_averages= [mean_chemistry_marks, mean_biology_marks, mean_Mathematics_marks, mean_Philosophy_marks, mean_Physics_marks, mean_Sociology_marks]\n",
        "fig = plt.figure(figsize = (10, 5))\n",
        "plt.bar(total_subjects, total_averages, color ='maroon',\n",
        "        width = 0.4)\n",
        "plt.xlabel(\"Average marks\")\n",
        "plt.ylabel(\"No. of Subjects \")\n",
        "plt.title(\"Total averages in different Subjects\")\n",
        "plt.show()"
      ],
      "metadata": {
        "id": "LWoPFZBOyyNn",
        "colab": {
          "base_uri": "https://localhost:8080/",
          "height": 350
        },
        "outputId": "46d673e2-0beb-43a8-ad24-17090f919faf"
      },
      "execution_count": 30,
      "outputs": [
        {
          "output_type": "display_data",
          "data": {
            "text/plain": [
              "<Figure size 720x360 with 1 Axes>"
            ],
            "image/png": "[encoded data removed]"
          },
          "metadata": {
            "needs_background": "light"
          }
        }
      ]
    },
    {
      "cell_type": "markdown",
      "source": [
        "---\n",
        "## Question 4\n",
        "---"
      ],
      "metadata": {
        "id": "dWlOSOIs6d1R"
      }
    },
    {
      "cell_type": "markdown",
      "source": [
        "**Part A** - Import the file \"CatData.csv\" and preprocess it to remove any null values"
      ],
      "metadata": {
        "id": "b4s-pN4v6kgb"
      }
    },
    {
      "cell_type": "code",
      "source": [
        "import pandas as pd\n",
        "import numpy as np\n",
        "Cat_data = pd.read_csv(\"https://raw.githubusercontent.com/Ahmad-Gill/l215617/main/CatData.csv\")\n",
        "drop_null_catdata=Cat_data.dropna()\n",
        "print(drop_null_catdata)\n"
      ],
      "metadata": {
        "id": "mvZ3xrBV9b1s",
        "colab": {
          "base_uri": "https://localhost:8080/"
        },
        "outputId": "cbadc5ea-0e4e-4d01-f290-4c27ea88adcc"
      },
      "execution_count": 44,
      "outputs": [
        {
          "output_type": "stream",
          "name": "stdout",
          "text": [
            "     Tail Length (cm)  Mass (kg)\n",
            "0                18.1      3.750\n",
            "1                18.6      3.800\n",
            "2                19.5      3.250\n",
            "3                19.3      3.450\n",
            "4                19.0      3.650\n",
            "..                ...        ...\n",
            "337              20.7      4.000\n",
            "338              20.2      3.400\n",
            "339              19.3      3.775\n",
            "340              21.0      4.100\n",
            "341              19.8      3.775\n",
            "\n",
            "[342 rows x 2 columns]\n"
          ]
        }
      ]
    },
    {
      "cell_type": "markdown",
      "source": [
        "**Part B** - Identify the independant and dependant variables (comment answer below)"
      ],
      "metadata": {
        "id": "bWxuB3ep9SWA"
      }
    },
    {
      "cell_type": "code",
      "source": [
        "print(\"the independent variable is = Mass (kg)\" )\n",
        "print(\"the dependent variable is = Tail Length (cm)\" )"
      ],
      "metadata": {
        "id": "TS9tvuRt9cWr",
        "colab": {
          "base_uri": "https://localhost:8080/"
        },
        "outputId": "2462d135-73c2-41c3-f1c4-518b947c0e33"
      },
      "execution_count": 32,
      "outputs": [
        {
          "output_type": "stream",
          "name": "stdout",
          "text": [
            "the independent variable is = Mass (kg)\n",
            "the dependent variable is = Tail Length (cm)\n"
          ]
        }
      ]
    },
    {
      "cell_type": "markdown",
      "source": [
        "**Part C** - Create a linear regression model using sklearn and fit it to the data you just imported\n"
      ],
      "metadata": {
        "id": "xPHVA3cX7uk9"
      }
    },
    {
      "cell_type": "code",
      "source": [
        "import matplotlib.pyplot as plt\n",
        "import numpy as np\n",
        "import pandas as pd\n",
        "from sklearn import linear_model\n",
        "\n",
        "regrection=linear_model.LinearRegression()\n",
        "x= np.array(drop_null_catdata[[\"Mass (kg)\"]])\n",
        "y= np.array(drop_null_catdata[[\"Tail Length (cm)\"]])\n",
        "regrection.fit(x, y)\n",
        "coefficient = regrection.coef_\n",
        "intercept = regrection.intercept_"
      ],
      "metadata": {
        "id": "WYVNRotH9cyo"
      },
      "execution_count": 45,
      "outputs": []
    },
    {
      "cell_type": "markdown",
      "source": [
        "**Part D** - Print the values for slope and y-intercept"
      ],
      "metadata": {
        "id": "0QMipKhb830G"
      }
    },
    {
      "cell_type": "code",
      "source": [
        "print(\"Slope = \", coefficient)\n",
        "print(\"intercept = \", intercept)"
      ],
      "metadata": {
        "id": "R7cvi3KB9dJh",
        "colab": {
          "base_uri": "https://localhost:8080/"
        },
        "outputId": "2ccaaf6b-4711-4f9a-d5ec-5685f4f24042"
      },
      "execution_count": 43,
      "outputs": [
        {
          "output_type": "stream",
          "name": "stdout",
          "text": [
            "Slope =  [[1.52759156]]\n",
            "intercept =  [13.67295593]\n"
          ]
        }
      ]
    },
    {
      "cell_type": "markdown",
      "source": [
        "**Part E** - Plot a scatter graph of the original data and a regression line on the same figure (example with dummy data shown below)\n",
        "\n",
        "![](https://drive.google.com/uc?export=view&id=1o_NAsNjfx7zAh9m-UjvWB3rta6uraKdY)"
      ],
      "metadata": {
        "id": "IIq-BQYp_i33"
      }
    },
    {
      "cell_type": "code",
      "source": [
        "plt.scatter(drop_null_catdata[\"Mass (kg)\"], drop_null_catdata[\"Tail Length (cm)\"] )\n",
        "plt.plot(x,x*coefficient+intercept,color=\"black\")\n",
        "plt.xlabel(\"Mass (kg)\")\n",
        "plt.ylabel(\"Tail Length (cm)\")\n",
        "plt.show()"
      ],
      "metadata": {
        "id": "jhz8gTYt_lCn",
        "colab": {
          "base_uri": "https://localhost:8080/",
          "height": 279
        },
        "outputId": "0332b77e-2218-445e-b9db-ff363c3c8762"
      },
      "execution_count": 46,
      "outputs": [
        {
          "output_type": "display_data",
          "data": {
            "text/plain": [
              "<Figure size 432x288 with 1 Axes>"
            ],
            "image/png": "[encoded data removed]"
          },
          "metadata": {
            "needs_background": "light"
          }
        }
      ]
    }
  ]
}